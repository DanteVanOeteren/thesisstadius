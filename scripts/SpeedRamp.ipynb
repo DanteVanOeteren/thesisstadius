{
 "cells": [
  {
   "cell_type": "code",
   "execution_count": null,
   "id": "a9b3818d",
   "metadata": {},
   "outputs": [
    {
     "name": "stdout",
     "output_type": "stream",
     "text": [
      "finding an odrive...\n"
     ]
    },
    {
     "name": "stderr",
     "output_type": "stream",
     "text": [
      "\u001b[91;1m23:40:33.551203905 [USB] Could not claim interface \u0002 on USB device: -6\u001b[0m\n",
      "\u001b[91;1m23:40:41.780666048 [USB] Could not claim interface \u0002 on USB device: -6\u001b[0m\n"
     ]
    }
   ],
   "source": [
    "#!/usr/bin/env python3\n",
    "\"\"\"\n",
    "Example usage of the ODrive python library to monitor and control ODrive devices\n",
    "\"\"\"\n",
    "\n",
    "from __future__ import print_function\n",
    "import odrive\n",
    "from odrive.enums import *\n",
    "import time\n",
    "import math\n",
    "\n",
    "# Find a connected ODrive (this will block until you connect one)\n",
    "print(\"finding an odrive...\")\n",
    "odrv = odrive.find_any()\n",
    "\n",
    "# 2)Apply new config\n",
    "print(\"applying config...\")\n",
    "odrv.config.dc_bus_overvoltage_trip_level = 15\n",
    "odrv.config.dc_max_positive_current = 2\n",
    "odrv.config.dc_max_negative_current = -1\n",
    "odrv.axis0.config.motor.motor_type = MotorType.HIGH_CURRENT\n",
    "odrv.axis0.config.motor.torque_constant = 0.05513333333333333\n",
    "odrv.axis0.config.motor.pole_pairs = 7\n",
    "odrv.axis0.config.motor.current_soft_max = 70\n",
    "odrv.axis0.config.motor.current_hard_max = 90\n",
    "odrv.axis0.config.motor.calibration_current = 10\n",
    "odrv.axis0.config.motor.resistance_calib_max_voltage = 2\n",
    "odrv.axis0.config.torque_soft_min = -0.7718666666666667\n",
    "odrv.axis0.config.torque_soft_max = 0.7718666666666667\n",
    "odrv.axis0.config.calibration_lockin.current = 10\n",
    "odrv.axis0.controller.config.input_mode = InputMode.PASSTHROUGH\n",
    "odrv.axis0.controller.config.control_mode = ControlMode.VELOCITY_CONTROL\n",
    "odrv.axis0.controller.config.vel_limit = 5\n",
    "odrv.axis0.controller.config.vel_limit_tolerance = 10\n",
    "odrv.inc_encoder0.config.cpr = 8192\n",
    "odrv.inc_encoder0.config.enabled = True\n",
    "odrv.config.gpio7_mode = GpioMode.DIGITAL\n",
    "odrv.axis0.commutation_mapper.config.use_index_gpio = True\n",
    "odrv.axis0.commutation_mapper.config.index_gpio = 7\n",
    "odrv.axis0.pos_vel_mapper.config.use_index_gpio = True\n",
    "odrv.axis0.pos_vel_mapper.config.index_gpio = 7\n",
    "odrv.axis0.pos_vel_mapper.config.index_offset = 0\n",
    "odrv.axis0.pos_vel_mapper.config.index_offset_valid = True\n",
    "odrv.axis0.config.load_encoder = EncoderId.INC_ENCODER0\n",
    "odrv.axis0.config.commutation_encoder = EncoderId.INC_ENCODER0\n",
    "\n",
    "# Calibrate motor and wait for it to finish\n",
    "print(\"starting calibration...\")\n",
    "odrv.axis0.requested_state = AXIS_STATE_FULL_CALIBRATION_SEQUENCE\n",
    "while odrv.axis0.current_state != AXIS_STATE_IDLE:\n",
    "    time.sleep(0.1)\n"
   ]
  },
  {
   "cell_type": "code",
   "execution_count": 43,
   "id": "3f98e30d",
   "metadata": {},
   "outputs": [
    {
     "name": "stdout",
     "output_type": "stream",
     "text": [
      "putting controller in closed loop control...\n"
     ]
    }
   ],
   "source": [
    "print(\"putting controller in closed loop control...\")\n",
    "odrv.axis0.requested_state = AXIS_STATE_CLOSED_LOOP_CONTROL\n",
    "\n",
    "\n",
    "odrv.axis0.controller.input_vel = 1\n",
    "time.sleep(2)\n",
    "odrv.axis0.controller.input_vel = 0"
   ]
  },
  {
   "cell_type": "code",
   "execution_count": 46,
   "id": "18439913",
   "metadata": {},
   "outputs": [],
   "source": [
    "max_speed = 5\n",
    "increment = 10\n",
    "timediff = 0.1\n",
    "for i in range(1,max_speed*increment+1):\n",
    "    time.sleep(timediff)\n",
    "    speed = (i/increment)\n",
    "    odrv.axis0.controller.input_vel = speed\n",
    "\n",
    "for i in range(1,max_speed*increment+1):\n",
    "    time.sleep(timediff)\n",
    "    speed = (max_speed - i/increment)\n",
    "    odrv.axis0.controller.input_vel = speed"
   ]
  },
  {
   "cell_type": "code",
   "execution_count": null,
   "id": "400b50b1",
   "metadata": {},
   "outputs": [],
   "source": []
  }
 ],
 "metadata": {
  "kernelspec": {
   "display_name": "Python 3 (ipykernel)",
   "language": "python",
   "name": "python3"
  },
  "language_info": {
   "codemirror_mode": {
    "name": "ipython",
    "version": 3
   },
   "file_extension": ".py",
   "mimetype": "text/x-python",
   "name": "python",
   "nbconvert_exporter": "python",
   "pygments_lexer": "ipython3",
   "version": "3.9.13"
  }
 },
 "nbformat": 4,
 "nbformat_minor": 5
}
